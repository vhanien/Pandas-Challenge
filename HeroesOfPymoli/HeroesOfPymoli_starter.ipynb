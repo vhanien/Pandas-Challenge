{
 "cells": [
  {
   "cell_type": "markdown",
   "metadata": {},
   "source": [
    
    
    "-----"
   ]
  },
  {
   "cell_type": "markdown",
   "metadata": {},
   "source": [
    "### Note\n",
    "* Instructions have been included for each segment. You do not have to follow them exactly, but they are included to help you think through the steps."
   ]
  },
  {
   "cell_type": "code",
   "execution_count": 29,
   "metadata": {},
   "outputs": [
    {
     "data": {
      "text/html": [
       "<div>\n",
       "<style scoped>\n",
       "    .dataframe tbody tr th:only-of-type {\n",
       "        vertical-align: middle;\n",
       "    }\n",
       "\n",
       "    .dataframe tbody tr th {\n",
       "        vertical-align: top;\n",
       "    }\n",
       "\n",
       "    .dataframe thead th {\n",
       "        text-align: right;\n",
       "    }\n",
       "</style>\n",
       "<table border=\"1\" class=\"dataframe\">\n",
       "  <thead>\n",
       "    <tr style=\"text-align: right;\">\n",
       "      <th></th>\n",
       "      <th>Purchase ID</th>\n",
       "      <th>SN</th>\n",
       "      <th>Age</th>\n",
       "      <th>Gender</th>\n",
       "      <th>Item ID</th>\n",
       "      <th>Item Name</th>\n",
       "      <th>Price</th>\n",
       "    </tr>\n",
       "  </thead>\n",
       "  <tbody>\n",
       "    <tr>\n",
       "      <th>0</th>\n",
       "      <td>0</td>\n",
       "      <td>Lisim78</td>\n",
       "      <td>20</td>\n",
       "      <td>Male</td>\n",
       "      <td>108</td>\n",
       "      <td>Extraction, Quickblade Of Trembling Hands</td>\n",
       "      <td>3.53</td>\n",
       "    </tr>\n",
       "    <tr>\n",
       "      <th>1</th>\n",
       "      <td>1</td>\n",
       "      <td>Lisovynya38</td>\n",
       "      <td>40</td>\n",
       "      <td>Male</td>\n",
       "      <td>143</td>\n",
       "      <td>Frenzied Scimitar</td>\n",
       "      <td>1.56</td>\n",
       "    </tr>\n",
       "    <tr>\n",
       "      <th>2</th>\n",
       "      <td>2</td>\n",
       "      <td>Ithergue48</td>\n",
       "      <td>24</td>\n",
       "      <td>Male</td>\n",
       "      <td>92</td>\n",
       "      <td>Final Critic</td>\n",
       "      <td>4.88</td>\n",
       "    </tr>\n",
       "    <tr>\n",
       "      <th>3</th>\n",
       "      <td>3</td>\n",
       "      <td>Chamassasya86</td>\n",
       "      <td>24</td>\n",
       "      <td>Male</td>\n",
       "      <td>100</td>\n",
       "      <td>Blindscythe</td>\n",
       "      <td>3.27</td>\n",
       "    </tr>\n",
       "    <tr>\n",
       "      <th>4</th>\n",
       "      <td>4</td>\n",
       "      <td>Iskosia90</td>\n",
       "      <td>23</td>\n",
       "      <td>Male</td>\n",
       "      <td>131</td>\n",
       "      <td>Fury</td>\n",
       "      <td>1.44</td>\n",
       "    </tr>\n",
       "  </tbody>\n",
       "</table>\n",
       "</div>"
      ],
      "text/plain": [
       "   Purchase ID             SN  Age Gender  Item ID  \\\n",
       "0            0        Lisim78   20   Male      108   \n",
       "1            1    Lisovynya38   40   Male      143   \n",
       "2            2     Ithergue48   24   Male       92   \n",
       "3            3  Chamassasya86   24   Male      100   \n",
       "4            4      Iskosia90   23   Male      131   \n",
       "\n",
       "                                   Item Name  Price  \n",
       "0  Extraction, Quickblade Of Trembling Hands   3.53  \n",
       "1                          Frenzied Scimitar   1.56  \n",
       "2                               Final Critic   4.88  \n",
       "3                                Blindscythe   3.27  \n",
       "4                                       Fury   1.44  "
      ]
     },
     "execution_count": 29,
     "metadata": {},
     "output_type": "execute_result"
    }
   ],
   "source": [
    "# Dependencies and Setup\n",
    "import pandas as pd\n",
    "\n",
    "# File to Load (Remember to Change These)\n",
    "file_to_load = \"Resources/purchase_data.csv\"\n",
    "\n",
    "# Read Purchasing File and store into Pandas data frame\n",
    "purchase_data = pd.read_csv(file_to_load)\n",
    "purchase_data.head()\n"
   ]
  },
  {
   "cell_type": "markdown",
   "metadata": {},
   "source": [
    "## Player Count"
   ]
  },
  {
   "cell_type": "markdown",
   "metadata": {},
   "source": [
    "* Display the total number of players\n"
   ]
  },
  {
   "cell_type": "code",
   "execution_count": 30,
   "metadata": {
    "scrolled": true
   },
   "outputs": [
    {
     "data": {
      "text/html": [
       "<div>\n",
       "<style scoped>\n",
       "    .dataframe tbody tr th:only-of-type {\n",
       "        vertical-align: middle;\n",
       "    }\n",
       "\n",
       "    .dataframe tbody tr th {\n",
       "        vertical-align: top;\n",
       "    }\n",
       "\n",
       "    .dataframe thead th {\n",
       "        text-align: right;\n",
       "    }\n",
       "</style>\n",
       "<table border=\"1\" class=\"dataframe\">\n",
       "  <thead>\n",
       "    <tr style=\"text-align: right;\">\n",
       "      <th></th>\n",
       "      <th>Total Players</th>\n",
       "    </tr>\n",
       "  </thead>\n",
       "  <tbody>\n",
       "    <tr>\n",
       "      <th>0</th>\n",
       "      <td>576</td>\n",
       "    </tr>\n",
       "  </tbody>\n",
       "</table>\n",
       "</div>"
      ],
      "text/plain": [
       "   Total Players\n",
       "0            576"
      ]
     },
     "execution_count": 30,
     "metadata": {},
     "output_type": "execute_result"
    }
   ],
   "source": [
    "#find the number of players\n",
    "players = len(purchase_data[\"SN\"].value_counts())\n",
    "players\n",
    "\n",
    "#Create a dataframe \n",
    "total_player_count = pd.DataFrame({\"Total Players\":[players]})\n",
    "total_player_count"
   ]
  },
  {
   "cell_type": "markdown",
   "metadata": {},
   "source": [
    "## Purchasing Analysis (Total)"
   ]
  },
  {
   "cell_type": "markdown",
   "metadata": {},
   "source": [
    "* Run basic calculations to obtain number of unique items, average price, etc.\n",
    "\n",
    "\n",
    "* Create a summary data frame to hold the results\n",
    "\n",
    "\n",
    "* Optional: give the displayed data cleaner formatting\n",
    "\n",
    "\n",
    "* Display the summary data frame\n"
   ]
  },
  {
   "cell_type": "code",
   "execution_count": 31,
   "metadata": {},
   "outputs": [
    {
     "data": {
      "text/html": [
       "<style  type=\"text/css\" >\n",
       "</style><table id=\"T_d2a26782_b036_11ea_bf79_5c80b676e679\" ><thead>    <tr>        <th class=\"blank level0\" ></th>        <th class=\"col_heading level0 col0\" >Number of Unique Items</th>        <th class=\"col_heading level0 col1\" >Average Price</th>        <th class=\"col_heading level0 col2\" >Number of Purchases</th>        <th class=\"col_heading level0 col3\" >Total Revenue</th>    </tr></thead><tbody>\n",
       "                <tr>\n",
       "                        <th id=\"T_d2a26782_b036_11ea_bf79_5c80b676e679level0_row0\" class=\"row_heading level0 row0\" >0</th>\n",
       "                        <td id=\"T_d2a26782_b036_11ea_bf79_5c80b676e679row0_col0\" class=\"data row0 col0\" >179</td>\n",
       "                        <td id=\"T_d2a26782_b036_11ea_bf79_5c80b676e679row0_col1\" class=\"data row0 col1\" >$3.05</td>\n",
       "                        <td id=\"T_d2a26782_b036_11ea_bf79_5c80b676e679row0_col2\" class=\"data row0 col2\" >780</td>\n",
       "                        <td id=\"T_d2a26782_b036_11ea_bf79_5c80b676e679row0_col3\" class=\"data row0 col3\" >$2,379.77</td>\n",
       "            </tr>\n",
       "    </tbody></table>"
      ],
      "text/plain": [
       "<pandas.io.formats.style.Styler at 0x21d169d0f88>"
      ]
     },
     "execution_count": 31,
     "metadata": {},
     "output_type": "execute_result"
    }
   ],
   "source": [
    "# Find items, average price, number of purchase & total revenue\n",
    "items = len((purchase_data[\"Item ID\"]).unique())\n",
    "averageprice = (purchase_data[\"Price\"]).mean()\n",
    "purchases = (purchase_data[\"Purchase ID\"]).count()\n",
    "revenue = (purchase_data[\"Price\"]).sum()\n",
    "\n",
    "# Create data frame\n",
    "purchasinganalysisdf = pd.DataFrame({\"Number of Unique Items\":[uniqueitems],\n",
    "                           \"Average Price\":[averageprice], \n",
    "                           \"Number of Purchases\": [purchases], \n",
    "                           \"Total Revenue\": [revenue]})\n",
    "\n",
    "# make it look pretty\n",
    "purchasinganalysisdf.style.format({'Average Price':\"${:,.2f}\",\n",
    "                         'Total Revenue': '${:,.2f}'})"
   ]
  },
  {
   "cell_type": "markdown",
   "metadata": {},
   "source": [
    "## Gender Demographics"
   ]
  },
  {
   "cell_type": "markdown",
   "metadata": {},
   "source": [
    "* Percentage and Count of Male Players\n",
    "\n",
    "\n",
    "* Percentage and Count of Female Players\n",
    "\n",
    "\n",
    "* Percentage and Count of Other / Non-Disclosed\n",
    "\n",
    "\n"
   ]
  },
  {
   "cell_type": "code",
   "execution_count": 32,
   "metadata": {},
   "outputs": [
    {
     "data": {
      "text/html": [
       "<style  type=\"text/css\" >\n",
       "</style><table id=\"T_d3a3a5ac_b036_11ea_8465_5c80b676e679\" ><thead>    <tr>        <th class=\"blank level0\" ></th>        <th class=\"col_heading level0 col0\" >Total Count</th>        <th class=\"col_heading level0 col1\" >Percentage of Players</th>    </tr></thead><tbody>\n",
       "                <tr>\n",
       "                        <th id=\"T_d3a3a5ac_b036_11ea_8465_5c80b676e679level0_row0\" class=\"row_heading level0 row0\" >Male</th>\n",
       "                        <td id=\"T_d3a3a5ac_b036_11ea_8465_5c80b676e679row0_col0\" class=\"data row0 col0\" >484</td>\n",
       "                        <td id=\"T_d3a3a5ac_b036_11ea_8465_5c80b676e679row0_col1\" class=\"data row0 col1\" >84.03%</td>\n",
       "            </tr>\n",
       "            <tr>\n",
       "                        <th id=\"T_d3a3a5ac_b036_11ea_8465_5c80b676e679level0_row1\" class=\"row_heading level0 row1\" >Female</th>\n",
       "                        <td id=\"T_d3a3a5ac_b036_11ea_8465_5c80b676e679row1_col0\" class=\"data row1 col0\" >81</td>\n",
       "                        <td id=\"T_d3a3a5ac_b036_11ea_8465_5c80b676e679row1_col1\" class=\"data row1 col1\" >14.06%</td>\n",
       "            </tr>\n",
       "            <tr>\n",
       "                        <th id=\"T_d3a3a5ac_b036_11ea_8465_5c80b676e679level0_row2\" class=\"row_heading level0 row2\" >Other / Non-Disclosed</th>\n",
       "                        <td id=\"T_d3a3a5ac_b036_11ea_8465_5c80b676e679row2_col0\" class=\"data row2 col0\" >11</td>\n",
       "                        <td id=\"T_d3a3a5ac_b036_11ea_8465_5c80b676e679row2_col1\" class=\"data row2 col1\" >1.91%</td>\n",
       "            </tr>\n",
       "    </tbody></table>"
      ],
      "text/plain": [
       "<pandas.io.formats.style.Styler at 0x21d169d5948>"
      ]
     },
     "execution_count": 32,
     "metadata": {},
     "output_type": "execute_result"
    }
   ],
   "source": [
    "# Groupgender\n",
    "gender = purchase_data.groupby(\"Gender\")\n",
    "gendercount = gender.nunique()[\"SN\"]\n",
    "\n",
    "# Find the percentages  \n",
    "percentage = gendercount / players * 100\n",
    "\n",
    "# Create data frame\n",
    "genderdemographics = pd.DataFrame({\"Total Count\": gendercount,\"Percentage of Players\": percentage})\n",
    "\n",
    "# Format the data frame since there was an extra space\n",
    "genderdemographics.index.name = None\n",
    "\n",
    "# make it look pretty\n",
    "genderdemographics.sort_values([\"Total Count\"], ascending = False).style.format({\"Percentage of Players\":\"{:.2f}%\"})"
   ]
  },
  {
   "cell_type": "markdown",
   "metadata": {},
   "source": [
    "\n",
    "## Purchasing Analysis (Gender)"
   ]
  },
  {
   "cell_type": "markdown",
   "metadata": {},
   "source": [
    "* Run basic calculations to obtain purchase count, avg. purchase price, avg. purchase total per person etc. by gender\n",
    "\n",
    "\n",
    "\n",
    "\n",
    "* Create a summary data frame to hold the results\n",
    "\n",
    "\n",
    "* Optional: give the displayed data cleaner formatting\n",
    "\n",
    "\n",
    "* Display the summary data frame"
   ]
  },
  {
   "cell_type": "code",
   "execution_count": 36,
   "metadata": {},
   "outputs": [
    {
     "data": {
      "text/html": [
       "<style  type=\"text/css\" >\n",
       "</style><table id=\"T_23194568_b039_11ea_b5ac_5c80b676e679\" ><thead>    <tr>        <th class=\"blank level0\" ></th>        <th class=\"col_heading level0 col0\" >Purchase Count</th>        <th class=\"col_heading level0 col1\" >Average Purchase Price</th>        <th class=\"col_heading level0 col2\" >Average Purchase Value</th>        <th class=\"col_heading level0 col3\" >Avg Purchase Total per Person</th>    </tr>    <tr>        <th class=\"index_name level0\" >Gender</th>        <th class=\"blank\" ></th>        <th class=\"blank\" ></th>        <th class=\"blank\" ></th>        <th class=\"blank\" ></th>    </tr></thead><tbody>\n",
       "                <tr>\n",
       "                        <th id=\"T_23194568_b039_11ea_b5ac_5c80b676e679level0_row0\" class=\"row_heading level0 row0\" >Female</th>\n",
       "                        <td id=\"T_23194568_b039_11ea_b5ac_5c80b676e679row0_col0\" class=\"data row0 col0\" >113</td>\n",
       "                        <td id=\"T_23194568_b039_11ea_b5ac_5c80b676e679row0_col1\" class=\"data row0 col1\" >$3.20</td>\n",
       "                        <td id=\"T_23194568_b039_11ea_b5ac_5c80b676e679row0_col2\" class=\"data row0 col2\" >$1.40</td>\n",
       "                        <td id=\"T_23194568_b039_11ea_b5ac_5c80b676e679row0_col3\" class=\"data row0 col3\" >$1.40</td>\n",
       "            </tr>\n",
       "            <tr>\n",
       "                        <th id=\"T_23194568_b039_11ea_b5ac_5c80b676e679level0_row1\" class=\"row_heading level0 row1\" >Male</th>\n",
       "                        <td id=\"T_23194568_b039_11ea_b5ac_5c80b676e679row1_col0\" class=\"data row1 col0\" >652</td>\n",
       "                        <td id=\"T_23194568_b039_11ea_b5ac_5c80b676e679row1_col1\" class=\"data row1 col1\" >$3.02</td>\n",
       "                        <td id=\"T_23194568_b039_11ea_b5ac_5c80b676e679row1_col2\" class=\"data row1 col2\" >$1.35</td>\n",
       "                        <td id=\"T_23194568_b039_11ea_b5ac_5c80b676e679row1_col3\" class=\"data row1 col3\" >$1.35</td>\n",
       "            </tr>\n",
       "            <tr>\n",
       "                        <th id=\"T_23194568_b039_11ea_b5ac_5c80b676e679level0_row2\" class=\"row_heading level0 row2\" >Other / Non-Disclosed</th>\n",
       "                        <td id=\"T_23194568_b039_11ea_b5ac_5c80b676e679row2_col0\" class=\"data row2 col0\" >15</td>\n",
       "                        <td id=\"T_23194568_b039_11ea_b5ac_5c80b676e679row2_col1\" class=\"data row2 col1\" >$3.35</td>\n",
       "                        <td id=\"T_23194568_b039_11ea_b5ac_5c80b676e679row2_col2\" class=\"data row2 col2\" >$1.36</td>\n",
       "                        <td id=\"T_23194568_b039_11ea_b5ac_5c80b676e679row2_col3\" class=\"data row2 col3\" >$1.36</td>\n",
       "            </tr>\n",
       "    </tbody></table>"
      ],
      "text/plain": [
       "<pandas.io.formats.style.Styler at 0x21d169e5808>"
      ]
     },
     "execution_count": 36,
     "metadata": {},
     "output_type": "execute_result"
    }
   ],
   "source": [
    "# Purchase Count\n",
    "purchasecount = gender [\"Purchase ID\"].count()\n",
    "\n",
    "# Average purchase price\n",
    "avgpurchaseprice = gender [\"Price\"].mean()\n",
    "\n",
    "# Average purchase total\n",
    "avgpurchase = gender[\"Price\"].sum()\n",
    "\n",
    "# Average purchase total per person\n",
    "avgpurchase = purchasecount/gendercount\n",
    "\n",
    "# Create data frame\n",
    "purchasinganalysis = pd.DataFrame({\"Purchase Count\": purchasecount, \n",
    "                                    \"Average Purchase Price\": avgpurchaseprice,\n",
    "                                    \"Average Purchase Value\":avgpurchase,\n",
    "                                    \"Avg Purchase Total per Person\": avgpurchase})\n",
    "\n",
    "# dataframe title\n",
    "purchasinganalysis.index.name = \"Gender\"\n",
    "\n",
    "\n",
    "# Make it look pretty \n",
    "purchasinganalysis.style.format({\"Average Purchase Value\":\"${:,.2f}\",\n",
    "                                  \"Average Purchase Price\":\"${:,.2f}\",\n",
    "                                  \"Avg Purchase Total per Person\":\"${:,.2f}\"})"
   ]
  },
  {
   "cell_type": "code",
   "execution_count": null,
   "metadata": {
    "scrolled": false
   },
   "outputs": [],
   "source": [
    "purchasinganalysis=pd.DataFrame({\"Purchase Count\": [purchasecountmale, purchasecountfemale, purchasecountother],\n",
    "                                 \"Average Purchase Price\": [avgmale, avgfemale, avgother], \n",
    "                                 \"Total Purchase Value\":[maletotal, femaletotal, othertotal],\n",
    "                                 \"Avg Total Purchase per Person\":[maleperperson, femaleperperson, otherperperson]})\n",
    "\n",
    "purchasinganalysis\n",
    "\n",
    "\n",
    "\n",
    "      \n",
    "      \n",
    "      "
   ]
  },
  {
   "cell_type": "markdown",
   "metadata": {},
   "source": [
    "## Age Demographics"
   ]
  },
  {
   "cell_type": "markdown",
   "metadata": {},
   "source": [
    "* Establish bins for ages\n",
    "\n",
    "\n",
    "* Categorize the existing players using the age bins. Hint: use pd.cut()\n",
    "\n",
    "\n",
    "* Calculate the numbers and percentages by age group\n",
    "\n",
    "\n",
    "* Create a summary data frame to hold the results\n",
    "\n",
    "\n",
    "* Optional: round the percentage column to two decimal points\n",
    "\n",
    "\n",
    "* Display Age Demographics Table\n"
   ]
  },
  {
   "cell_type": "code",
   "execution_count": 44,
   "metadata": {},
   "outputs": [
    {
     "data": {
      "text/html": [
       "<style  type=\"text/css\" >\n",
       "</style><table id=\"T_66ca5c3a_b03d_11ea_8835_5c80b676e679\" ><thead>    <tr>        <th class=\"blank level0\" ></th>        <th class=\"col_heading level0 col0\" >Total Count</th>        <th class=\"col_heading level0 col1\" >Percentage of Players</th>    </tr></thead><tbody>\n",
       "                <tr>\n",
       "                        <th id=\"T_66ca5c3a_b03d_11ea_8835_5c80b676e679level0_row0\" class=\"row_heading level0 row0\" ><10</th>\n",
       "                        <td id=\"T_66ca5c3a_b03d_11ea_8835_5c80b676e679row0_col0\" class=\"data row0 col0\" >17</td>\n",
       "                        <td id=\"T_66ca5c3a_b03d_11ea_8835_5c80b676e679row0_col1\" class=\"data row0 col1\" >2.95%</td>\n",
       "            </tr>\n",
       "            <tr>\n",
       "                        <th id=\"T_66ca5c3a_b03d_11ea_8835_5c80b676e679level0_row1\" class=\"row_heading level0 row1\" >10-14</th>\n",
       "                        <td id=\"T_66ca5c3a_b03d_11ea_8835_5c80b676e679row1_col0\" class=\"data row1 col0\" >22</td>\n",
       "                        <td id=\"T_66ca5c3a_b03d_11ea_8835_5c80b676e679row1_col1\" class=\"data row1 col1\" >3.82%</td>\n",
       "            </tr>\n",
       "            <tr>\n",
       "                        <th id=\"T_66ca5c3a_b03d_11ea_8835_5c80b676e679level0_row2\" class=\"row_heading level0 row2\" >15-19</th>\n",
       "                        <td id=\"T_66ca5c3a_b03d_11ea_8835_5c80b676e679row2_col0\" class=\"data row2 col0\" >107</td>\n",
       "                        <td id=\"T_66ca5c3a_b03d_11ea_8835_5c80b676e679row2_col1\" class=\"data row2 col1\" >18.58%</td>\n",
       "            </tr>\n",
       "            <tr>\n",
       "                        <th id=\"T_66ca5c3a_b03d_11ea_8835_5c80b676e679level0_row3\" class=\"row_heading level0 row3\" >20-24</th>\n",
       "                        <td id=\"T_66ca5c3a_b03d_11ea_8835_5c80b676e679row3_col0\" class=\"data row3 col0\" >258</td>\n",
       "                        <td id=\"T_66ca5c3a_b03d_11ea_8835_5c80b676e679row3_col1\" class=\"data row3 col1\" >44.79%</td>\n",
       "            </tr>\n",
       "            <tr>\n",
       "                        <th id=\"T_66ca5c3a_b03d_11ea_8835_5c80b676e679level0_row4\" class=\"row_heading level0 row4\" >25-29</th>\n",
       "                        <td id=\"T_66ca5c3a_b03d_11ea_8835_5c80b676e679row4_col0\" class=\"data row4 col0\" >77</td>\n",
       "                        <td id=\"T_66ca5c3a_b03d_11ea_8835_5c80b676e679row4_col1\" class=\"data row4 col1\" >13.37%</td>\n",
       "            </tr>\n",
       "            <tr>\n",
       "                        <th id=\"T_66ca5c3a_b03d_11ea_8835_5c80b676e679level0_row5\" class=\"row_heading level0 row5\" >30-34</th>\n",
       "                        <td id=\"T_66ca5c3a_b03d_11ea_8835_5c80b676e679row5_col0\" class=\"data row5 col0\" >52</td>\n",
       "                        <td id=\"T_66ca5c3a_b03d_11ea_8835_5c80b676e679row5_col1\" class=\"data row5 col1\" >9.03%</td>\n",
       "            </tr>\n",
       "            <tr>\n",
       "                        <th id=\"T_66ca5c3a_b03d_11ea_8835_5c80b676e679level0_row6\" class=\"row_heading level0 row6\" >35-39</th>\n",
       "                        <td id=\"T_66ca5c3a_b03d_11ea_8835_5c80b676e679row6_col0\" class=\"data row6 col0\" >31</td>\n",
       "                        <td id=\"T_66ca5c3a_b03d_11ea_8835_5c80b676e679row6_col1\" class=\"data row6 col1\" >5.38%</td>\n",
       "            </tr>\n",
       "            <tr>\n",
       "                        <th id=\"T_66ca5c3a_b03d_11ea_8835_5c80b676e679level0_row7\" class=\"row_heading level0 row7\" >40+</th>\n",
       "                        <td id=\"T_66ca5c3a_b03d_11ea_8835_5c80b676e679row7_col0\" class=\"data row7 col0\" >12</td>\n",
       "                        <td id=\"T_66ca5c3a_b03d_11ea_8835_5c80b676e679row7_col1\" class=\"data row7 col1\" >2.08%</td>\n",
       "            </tr>\n",
       "    </tbody></table>"
      ],
      "text/plain": [
       "<pandas.io.formats.style.Styler at 0x21d16a33548>"
      ]
     },
     "execution_count": 44,
     "metadata": {},
     "output_type": "execute_result"
    }
   ],
   "source": [
    "# Bin the data \n",
    "agebins = [0, 9.90, 14.90, 19.90, 24.90, 29.90, 34.90, 39.90, 99999]\n",
    "groups = [\"<10\", \"10-14\", \"15-19\", \"20-24\", \"25-29\", \"30-34\", \"35-39\", \"40+\"]\n",
    "\n",
    "# Use pd cut and make new data frame\n",
    "purchase_data[\"Age Group\"] = pd.cut(purchase_data[\"Age\"],age_bins, labels=group_names)\n",
    "purchase_data\n",
    "agegrouped = purchase_data.groupby(\"Age Group\")\n",
    "\n",
    "# Find count of age and percentages\n",
    "agecount = age_grouped[\"SN\"].nunique() \n",
    "agepercentage = (agecount/players) * 100\n",
    "\n",
    "# Create data frame age and percentages\n",
    "age = pd.DataFrame({\"Total Count\": agecount,\"Percentage of Players\":agepercentage})\n",
    "\n",
    "# format header\n",
    "age.index.name = None\n",
    "\n",
    "# Make it look pretty\n",
    "age.style.format({\"Percentage of Players\":\"{:,.2f}%\"})"
   ]
  },
  {
   "cell_type": "markdown",
   "metadata": {},
   "source": [
    "## Purchasing Analysis (Age)"
   ]
  },
  {
   "cell_type": "markdown",
   "metadata": {},
   "source": [
    "* Bin the purchase_data data frame by age\n",
    "\n",
    "\n",
    "* Run basic calculations to obtain purchase count, avg. purchase price, avg. purchase total per person etc. in the table below\n",
    "\n",
    "\n",
    "* Create a summary data frame to hold the results\n",
    "\n",
    "\n",
    "* Optional: give the displayed data cleaner formatting\n",
    "\n",
    "\n",
    "* Display the summary data frame"
   ]
  },
  {
   "cell_type": "code",
   "execution_count": 53,
   "metadata": {},
   "outputs": [
    {
     "data": {
      "text/html": [
       "<style  type=\"text/css\" >\n",
       "</style><table id=\"T_e841f108_b0b9_11ea_9aaf_5c80b676e679\" ><thead>    <tr>        <th class=\"blank level0\" ></th>        <th class=\"col_heading level0 col0\" >Purchase Count</th>        <th class=\"col_heading level0 col1\" >Average Purchase Price</th>        <th class=\"col_heading level0 col2\" >Total Purchase Value</th>        <th class=\"col_heading level0 col3\" >Average Purchase Total per Person</th>    </tr></thead><tbody>\n",
       "                <tr>\n",
       "                        <th id=\"T_e841f108_b0b9_11ea_9aaf_5c80b676e679level0_row0\" class=\"row_heading level0 row0\" ><10</th>\n",
       "                        <td id=\"T_e841f108_b0b9_11ea_9aaf_5c80b676e679row0_col0\" class=\"data row0 col0\" >23</td>\n",
       "                        <td id=\"T_e841f108_b0b9_11ea_9aaf_5c80b676e679row0_col1\" class=\"data row0 col1\" >$3.35</td>\n",
       "                        <td id=\"T_e841f108_b0b9_11ea_9aaf_5c80b676e679row0_col2\" class=\"data row0 col2\" >$77.13</td>\n",
       "                        <td id=\"T_e841f108_b0b9_11ea_9aaf_5c80b676e679row0_col3\" class=\"data row0 col3\" >$4.54</td>\n",
       "            </tr>\n",
       "            <tr>\n",
       "                        <th id=\"T_e841f108_b0b9_11ea_9aaf_5c80b676e679level0_row1\" class=\"row_heading level0 row1\" >10-14</th>\n",
       "                        <td id=\"T_e841f108_b0b9_11ea_9aaf_5c80b676e679row1_col0\" class=\"data row1 col0\" >28</td>\n",
       "                        <td id=\"T_e841f108_b0b9_11ea_9aaf_5c80b676e679row1_col1\" class=\"data row1 col1\" >$2.96</td>\n",
       "                        <td id=\"T_e841f108_b0b9_11ea_9aaf_5c80b676e679row1_col2\" class=\"data row1 col2\" >$82.78</td>\n",
       "                        <td id=\"T_e841f108_b0b9_11ea_9aaf_5c80b676e679row1_col3\" class=\"data row1 col3\" >$3.76</td>\n",
       "            </tr>\n",
       "            <tr>\n",
       "                        <th id=\"T_e841f108_b0b9_11ea_9aaf_5c80b676e679level0_row2\" class=\"row_heading level0 row2\" >15-19</th>\n",
       "                        <td id=\"T_e841f108_b0b9_11ea_9aaf_5c80b676e679row2_col0\" class=\"data row2 col0\" >136</td>\n",
       "                        <td id=\"T_e841f108_b0b9_11ea_9aaf_5c80b676e679row2_col1\" class=\"data row2 col1\" >$3.04</td>\n",
       "                        <td id=\"T_e841f108_b0b9_11ea_9aaf_5c80b676e679row2_col2\" class=\"data row2 col2\" >$412.89</td>\n",
       "                        <td id=\"T_e841f108_b0b9_11ea_9aaf_5c80b676e679row2_col3\" class=\"data row2 col3\" >$3.86</td>\n",
       "            </tr>\n",
       "            <tr>\n",
       "                        <th id=\"T_e841f108_b0b9_11ea_9aaf_5c80b676e679level0_row3\" class=\"row_heading level0 row3\" >20-24</th>\n",
       "                        <td id=\"T_e841f108_b0b9_11ea_9aaf_5c80b676e679row3_col0\" class=\"data row3 col0\" >365</td>\n",
       "                        <td id=\"T_e841f108_b0b9_11ea_9aaf_5c80b676e679row3_col1\" class=\"data row3 col1\" >$3.05</td>\n",
       "                        <td id=\"T_e841f108_b0b9_11ea_9aaf_5c80b676e679row3_col2\" class=\"data row3 col2\" >$1,114.06</td>\n",
       "                        <td id=\"T_e841f108_b0b9_11ea_9aaf_5c80b676e679row3_col3\" class=\"data row3 col3\" >$4.32</td>\n",
       "            </tr>\n",
       "            <tr>\n",
       "                        <th id=\"T_e841f108_b0b9_11ea_9aaf_5c80b676e679level0_row4\" class=\"row_heading level0 row4\" >25-29</th>\n",
       "                        <td id=\"T_e841f108_b0b9_11ea_9aaf_5c80b676e679row4_col0\" class=\"data row4 col0\" >101</td>\n",
       "                        <td id=\"T_e841f108_b0b9_11ea_9aaf_5c80b676e679row4_col1\" class=\"data row4 col1\" >$2.90</td>\n",
       "                        <td id=\"T_e841f108_b0b9_11ea_9aaf_5c80b676e679row4_col2\" class=\"data row4 col2\" >$293.00</td>\n",
       "                        <td id=\"T_e841f108_b0b9_11ea_9aaf_5c80b676e679row4_col3\" class=\"data row4 col3\" >$3.81</td>\n",
       "            </tr>\n",
       "            <tr>\n",
       "                        <th id=\"T_e841f108_b0b9_11ea_9aaf_5c80b676e679level0_row5\" class=\"row_heading level0 row5\" >30-34</th>\n",
       "                        <td id=\"T_e841f108_b0b9_11ea_9aaf_5c80b676e679row5_col0\" class=\"data row5 col0\" >73</td>\n",
       "                        <td id=\"T_e841f108_b0b9_11ea_9aaf_5c80b676e679row5_col1\" class=\"data row5 col1\" >$2.93</td>\n",
       "                        <td id=\"T_e841f108_b0b9_11ea_9aaf_5c80b676e679row5_col2\" class=\"data row5 col2\" >$214.00</td>\n",
       "                        <td id=\"T_e841f108_b0b9_11ea_9aaf_5c80b676e679row5_col3\" class=\"data row5 col3\" >$4.12</td>\n",
       "            </tr>\n",
       "            <tr>\n",
       "                        <th id=\"T_e841f108_b0b9_11ea_9aaf_5c80b676e679level0_row6\" class=\"row_heading level0 row6\" >35-39</th>\n",
       "                        <td id=\"T_e841f108_b0b9_11ea_9aaf_5c80b676e679row6_col0\" class=\"data row6 col0\" >41</td>\n",
       "                        <td id=\"T_e841f108_b0b9_11ea_9aaf_5c80b676e679row6_col1\" class=\"data row6 col1\" >$3.60</td>\n",
       "                        <td id=\"T_e841f108_b0b9_11ea_9aaf_5c80b676e679row6_col2\" class=\"data row6 col2\" >$147.67</td>\n",
       "                        <td id=\"T_e841f108_b0b9_11ea_9aaf_5c80b676e679row6_col3\" class=\"data row6 col3\" >$4.76</td>\n",
       "            </tr>\n",
       "            <tr>\n",
       "                        <th id=\"T_e841f108_b0b9_11ea_9aaf_5c80b676e679level0_row7\" class=\"row_heading level0 row7\" >40+</th>\n",
       "                        <td id=\"T_e841f108_b0b9_11ea_9aaf_5c80b676e679row7_col0\" class=\"data row7 col0\" >13</td>\n",
       "                        <td id=\"T_e841f108_b0b9_11ea_9aaf_5c80b676e679row7_col1\" class=\"data row7 col1\" >$2.94</td>\n",
       "                        <td id=\"T_e841f108_b0b9_11ea_9aaf_5c80b676e679row7_col2\" class=\"data row7 col2\" >$38.24</td>\n",
       "                        <td id=\"T_e841f108_b0b9_11ea_9aaf_5c80b676e679row7_col3\" class=\"data row7 col3\" >$3.19</td>\n",
       "            </tr>\n",
       "    </tbody></table>"
      ],
      "text/plain": [
       "<pandas.io.formats.style.Styler at 0x21d16a53308>"
      ]
     },
     "execution_count": 53,
     "metadata": {},
     "output_type": "execute_result"
    }
   ],
   "source": [
    "# Count purchases by age group\n",
    "purchasecountbyage = agegrouped[\"Purchase ID\"].count()\n",
    "\n",
    "# Avg purchase, total purchase, avg per person\n",
    "purchasepriceavgbyage = agegrouped[\"Price\"].mean()\n",
    "totalvaluebygroup = agegrouped[\"Price\"].sum()\n",
    "avgperpersonage = totalvaluebygroup/agecount\n",
    "\n",
    "# Create data frame \n",
    "purchasinganalysis = pd.DataFrame({\"Purchase Count\": purchasecountbyage,\n",
    "                                 \"Average Purchase Price\": purchasepriceavgbyage,\n",
    "                                 \"Total Purchase Value\":totalvaluebygroup,\n",
    "                                 \"Average Purchase Total per Person\": avgperpersonage})\n",
    "\n",
    "# format header\n",
    "purchasinganalysis.index.name = None\n",
    "\n",
    "# Make it look pretty \n",
    "purchasinganalysis.style.format({\"Average Purchase Price\":\"${:,.2f}\",\n",
    "                               \"Total Purchase Value\":\"${:,.2f}\",\n",
    "                               \"Average Purchase Total per Person\":\"${:,.2f}\"})"
   ]
  },
  {
   "cell_type": "markdown",
   "metadata": {},
   "source": [
    "## Top Spenders"
   ]
  },
  {
   "cell_type": "markdown",
   "metadata": {},
   "source": [
    "* Run basic calculations to obtain the results in the table below\n",
    "\n",
    "\n",
    "* Create a summary data frame to hold the results\n",
    "\n",
    "\n",
    "* Sort the total purchase value column in descending order\n",
    "\n",
    "\n",
    "* Optional: give the displayed data cleaner formatting\n",
    "\n",
    "\n",
    "* Display a preview of the summary data frame\n",
    "\n"
   ]
  },
  {
   "cell_type": "code",
   "execution_count": 56,
   "metadata": {},
   "outputs": [
    {
     "data": {
      "text/html": [
       "<style  type=\"text/css\" >\n",
       "</style><table id=\"T_75d4cf08_b0ba_11ea_b6cb_5c80b676e679\" ><thead>    <tr>        <th class=\"blank level0\" ></th>        <th class=\"col_heading level0 col0\" >Purchase Count</th>        <th class=\"col_heading level0 col1\" >Average Purchase Price</th>        <th class=\"col_heading level0 col2\" >Total Purchase Value</th>    </tr>    <tr>        <th class=\"index_name level0\" >SN</th>        <th class=\"blank\" ></th>        <th class=\"blank\" ></th>        <th class=\"blank\" ></th>    </tr></thead><tbody>\n",
       "                <tr>\n",
       "                        <th id=\"T_75d4cf08_b0ba_11ea_b6cb_5c80b676e679level0_row0\" class=\"row_heading level0 row0\" >Lisosia93</th>\n",
       "                        <td id=\"T_75d4cf08_b0ba_11ea_b6cb_5c80b676e679row0_col0\" class=\"data row0 col0\" >5</td>\n",
       "                        <td id=\"T_75d4cf08_b0ba_11ea_b6cb_5c80b676e679row0_col1\" class=\"data row0 col1\" >$3.79</td>\n",
       "                        <td id=\"T_75d4cf08_b0ba_11ea_b6cb_5c80b676e679row0_col2\" class=\"data row0 col2\" >$18.96</td>\n",
       "            </tr>\n",
       "            <tr>\n",
       "                        <th id=\"T_75d4cf08_b0ba_11ea_b6cb_5c80b676e679level0_row1\" class=\"row_heading level0 row1\" >Idastidru52</th>\n",
       "                        <td id=\"T_75d4cf08_b0ba_11ea_b6cb_5c80b676e679row1_col0\" class=\"data row1 col0\" >4</td>\n",
       "                        <td id=\"T_75d4cf08_b0ba_11ea_b6cb_5c80b676e679row1_col1\" class=\"data row1 col1\" >$3.86</td>\n",
       "                        <td id=\"T_75d4cf08_b0ba_11ea_b6cb_5c80b676e679row1_col2\" class=\"data row1 col2\" >$15.45</td>\n",
       "            </tr>\n",
       "            <tr>\n",
       "                        <th id=\"T_75d4cf08_b0ba_11ea_b6cb_5c80b676e679level0_row2\" class=\"row_heading level0 row2\" >Chamjask73</th>\n",
       "                        <td id=\"T_75d4cf08_b0ba_11ea_b6cb_5c80b676e679row2_col0\" class=\"data row2 col0\" >3</td>\n",
       "                        <td id=\"T_75d4cf08_b0ba_11ea_b6cb_5c80b676e679row2_col1\" class=\"data row2 col1\" >$4.61</td>\n",
       "                        <td id=\"T_75d4cf08_b0ba_11ea_b6cb_5c80b676e679row2_col2\" class=\"data row2 col2\" >$13.83</td>\n",
       "            </tr>\n",
       "            <tr>\n",
       "                        <th id=\"T_75d4cf08_b0ba_11ea_b6cb_5c80b676e679level0_row3\" class=\"row_heading level0 row3\" >Iral74</th>\n",
       "                        <td id=\"T_75d4cf08_b0ba_11ea_b6cb_5c80b676e679row3_col0\" class=\"data row3 col0\" >4</td>\n",
       "                        <td id=\"T_75d4cf08_b0ba_11ea_b6cb_5c80b676e679row3_col1\" class=\"data row3 col1\" >$3.40</td>\n",
       "                        <td id=\"T_75d4cf08_b0ba_11ea_b6cb_5c80b676e679row3_col2\" class=\"data row3 col2\" >$13.62</td>\n",
       "            </tr>\n",
       "            <tr>\n",
       "                        <th id=\"T_75d4cf08_b0ba_11ea_b6cb_5c80b676e679level0_row4\" class=\"row_heading level0 row4\" >Iskadarya95</th>\n",
       "                        <td id=\"T_75d4cf08_b0ba_11ea_b6cb_5c80b676e679row4_col0\" class=\"data row4 col0\" >3</td>\n",
       "                        <td id=\"T_75d4cf08_b0ba_11ea_b6cb_5c80b676e679row4_col1\" class=\"data row4 col1\" >$4.37</td>\n",
       "                        <td id=\"T_75d4cf08_b0ba_11ea_b6cb_5c80b676e679row4_col2\" class=\"data row4 col2\" >$13.10</td>\n",
       "            </tr>\n",
       "    </tbody></table>"
      ],
      "text/plain": [
       "<pandas.io.formats.style.Styler at 0x21d16991408>"
      ]
     },
     "execution_count": 56,
     "metadata": {},
     "output_type": "execute_result"
    }
   ],
   "source": [
    "# Group purchase data by name\n",
    "spenderbynames = purchase_data.groupby(\"SN\")\n",
    "\n",
    "# Basic calculations\n",
    "purchasecount = spender_stats[\"Purchase ID\"].count()\n",
    "avgspender = spender_stats[\"Price\"].mean()\n",
    "totalspender = spender_stats[\"Price\"].sum()\n",
    "\n",
    "# Create data frame\n",
    "spenders = pd.DataFrame({\"Purchase Count\": purchasecount,\n",
    "                             \"Average Purchase Price\": avgspender,\n",
    "                             \"Total Purchase Value\":totalspender})\n",
    "\n",
    "# # Sort in descending order to obtain top 5 spender names \n",
    "spenders = spenders.sort_values([\"Total Purchase Value\"], ascending=False).head()\n",
    "\n",
    "# Format with currency style\n",
    "spenders.style.format({\"Average Purchase Total\":\"${:,.2f}\",\n",
    "                                 \"Average Purchase Price\":\"${:,.2f}\", \n",
    "                                 \"Total Purchase Value\":\"${:,.2f}\"})"
   ]
  },
  {
   "cell_type": "markdown",
   "metadata": {},
   "source": [
    "## Most Popular Items"
   ]
  },
  {
   "cell_type": "markdown",
   "metadata": {},
   "source": [
    "* Retrieve the Item ID, Item Name, and Item Price columns\n",
    "\n",
    "\n",
    "* Group by Item ID and Item Name. Perform calculations to obtain purchase count, item price, and total purchase value\n",
    "\n",
    "\n",
    "* Create a summary data frame to hold the results\n",
    "\n",
    "\n",
    "* Sort the purchase count column in descending order\n",
    "\n",
    "\n",
    "* Optional: give the displayed data cleaner formatting\n",
    "\n",
    "\n",
    "* Display a preview of the summary data frame\n",
    "\n"
   ]
  },
  {
   "cell_type": "code",
   "execution_count": 59,
   "metadata": {},
   "outputs": [
    {
     "data": {
      "text/html": [
       "<style  type=\"text/css\" >\n",
       "</style><table id=\"T_92853776_b107_11ea_92fb_5c80b676e679\" ><thead>    <tr>        <th class=\"blank\" ></th>        <th class=\"blank level0\" ></th>        <th class=\"col_heading level0 col0\" >Purchase Count</th>        <th class=\"col_heading level0 col1\" >Item Price</th>        <th class=\"col_heading level0 col2\" >Total Purchase Value</th>    </tr>    <tr>        <th class=\"index_name level0\" >Item ID</th>        <th class=\"index_name level1\" >Item Name</th>        <th class=\"blank\" ></th>        <th class=\"blank\" ></th>        <th class=\"blank\" ></th>    </tr></thead><tbody>\n",
       "                <tr>\n",
       "                        <th id=\"T_92853776_b107_11ea_92fb_5c80b676e679level0_row0\" class=\"row_heading level0 row0\" >92</th>\n",
       "                        <th id=\"T_92853776_b107_11ea_92fb_5c80b676e679level1_row0\" class=\"row_heading level1 row0\" >Final Critic</th>\n",
       "                        <td id=\"T_92853776_b107_11ea_92fb_5c80b676e679row0_col0\" class=\"data row0 col0\" >13</td>\n",
       "                        <td id=\"T_92853776_b107_11ea_92fb_5c80b676e679row0_col1\" class=\"data row0 col1\" >$4.61</td>\n",
       "                        <td id=\"T_92853776_b107_11ea_92fb_5c80b676e679row0_col2\" class=\"data row0 col2\" >$59.99</td>\n",
       "            </tr>\n",
       "            <tr>\n",
       "                        <th id=\"T_92853776_b107_11ea_92fb_5c80b676e679level0_row1\" class=\"row_heading level0 row1\" >178</th>\n",
       "                        <th id=\"T_92853776_b107_11ea_92fb_5c80b676e679level1_row1\" class=\"row_heading level1 row1\" >Oathbreaker, Last Hope of the Breaking Storm</th>\n",
       "                        <td id=\"T_92853776_b107_11ea_92fb_5c80b676e679row1_col0\" class=\"data row1 col0\" >12</td>\n",
       "                        <td id=\"T_92853776_b107_11ea_92fb_5c80b676e679row1_col1\" class=\"data row1 col1\" >$4.23</td>\n",
       "                        <td id=\"T_92853776_b107_11ea_92fb_5c80b676e679row1_col2\" class=\"data row1 col2\" >$50.76</td>\n",
       "            </tr>\n",
       "            <tr>\n",
       "                        <th id=\"T_92853776_b107_11ea_92fb_5c80b676e679level0_row2\" class=\"row_heading level0 row2\" >145</th>\n",
       "                        <th id=\"T_92853776_b107_11ea_92fb_5c80b676e679level1_row2\" class=\"row_heading level1 row2\" >Fiery Glass Crusader</th>\n",
       "                        <td id=\"T_92853776_b107_11ea_92fb_5c80b676e679row2_col0\" class=\"data row2 col0\" >9</td>\n",
       "                        <td id=\"T_92853776_b107_11ea_92fb_5c80b676e679row2_col1\" class=\"data row2 col1\" >$4.58</td>\n",
       "                        <td id=\"T_92853776_b107_11ea_92fb_5c80b676e679row2_col2\" class=\"data row2 col2\" >$41.22</td>\n",
       "            </tr>\n",
       "            <tr>\n",
       "                        <th id=\"T_92853776_b107_11ea_92fb_5c80b676e679level0_row3\" class=\"row_heading level0 row3\" >132</th>\n",
       "                        <th id=\"T_92853776_b107_11ea_92fb_5c80b676e679level1_row3\" class=\"row_heading level1 row3\" >Persuasion</th>\n",
       "                        <td id=\"T_92853776_b107_11ea_92fb_5c80b676e679row3_col0\" class=\"data row3 col0\" >9</td>\n",
       "                        <td id=\"T_92853776_b107_11ea_92fb_5c80b676e679row3_col1\" class=\"data row3 col1\" >$3.22</td>\n",
       "                        <td id=\"T_92853776_b107_11ea_92fb_5c80b676e679row3_col2\" class=\"data row3 col2\" >$28.99</td>\n",
       "            </tr>\n",
       "            <tr>\n",
       "                        <th id=\"T_92853776_b107_11ea_92fb_5c80b676e679level0_row4\" class=\"row_heading level0 row4\" >108</th>\n",
       "                        <th id=\"T_92853776_b107_11ea_92fb_5c80b676e679level1_row4\" class=\"row_heading level1 row4\" >Extraction, Quickblade Of Trembling Hands</th>\n",
       "                        <td id=\"T_92853776_b107_11ea_92fb_5c80b676e679row4_col0\" class=\"data row4 col0\" >9</td>\n",
       "                        <td id=\"T_92853776_b107_11ea_92fb_5c80b676e679row4_col1\" class=\"data row4 col1\" >$3.53</td>\n",
       "                        <td id=\"T_92853776_b107_11ea_92fb_5c80b676e679row4_col2\" class=\"data row4 col2\" >$31.77</td>\n",
       "            </tr>\n",
       "    </tbody></table>"
      ],
      "text/plain": [
       "<pandas.io.formats.style.Styler at 0x21d16af4f48>"
      ]
     },
     "execution_count": 59,
     "metadata": {},
     "output_type": "execute_result"
    }
   ],
   "source": [
    "#Create a subset of purchase data\n",
    "items = purchase_data[[\"Item ID\", \"Item Name\", \"Price\"]]\n",
    "\n",
    "# Basic Calculations\n",
    "itemgroup = items.groupby([\"Item ID\",\"Item Name\"])\n",
    "howmanytimespurch = itemgroup[\"Price\"].count()\n",
    "purchasevalue = (itemgroup[\"Price\"].sum()) \n",
    "itemprice = purchase_value/purchase_count_item\n",
    "\n",
    "# Create data frame\n",
    "popular = pd.DataFrame({\"Purchase Count\": howmanytimespurch, \n",
    "                                   \"Item Price\": itemprice,\n",
    "                                   \"Total Purchase Value\":purchasevalue})\n",
    "\n",
    "# Top 5 \n",
    "popularitemsformatted = popular.sort_values([\"Purchase Count\"], ascending=False).head()\n",
    "\n",
    "# Make it look pretty\n",
    "popularitemsformatted.style.format({\"Item Price\":\"${:,.2f}\",\n",
    "                                \"Total Purchase Value\":\"${:,.2f}\"})"
   ]
  },
  {
   "cell_type": "markdown",
   "metadata": {},
   "source": [
    "## Most Profitable Items"
   ]
  },
  {
   "cell_type": "markdown",
   "metadata": {},
   "source": [
    "* Sort the above table by total purchase value in descending order\n",
    "\n",
    "\n",
    "* Optional: give the displayed data cleaner formatting\n",
    "\n",
    "\n",
    "* Display a preview of the data frame\n",
    "\n"
   ]
  },
  {
   "cell_type": "code",
   "execution_count": 61,
   "metadata": {
    "scrolled": true
   },
   "outputs": [
    {
     "data": {
      "text/html": [
       "<style  type=\"text/css\" >\n",
       "</style><table id=\"T_e525fbee_b107_11ea_a953_5c80b676e679\" ><thead>    <tr>        <th class=\"blank\" ></th>        <th class=\"blank level0\" ></th>        <th class=\"col_heading level0 col0\" >Purchase Count</th>        <th class=\"col_heading level0 col1\" >Item Price</th>        <th class=\"col_heading level0 col2\" >Total Purchase Value</th>    </tr>    <tr>        <th class=\"index_name level0\" >Item ID</th>        <th class=\"index_name level1\" >Item Name</th>        <th class=\"blank\" ></th>        <th class=\"blank\" ></th>        <th class=\"blank\" ></th>    </tr></thead><tbody>\n",
       "                <tr>\n",
       "                        <th id=\"T_e525fbee_b107_11ea_a953_5c80b676e679level0_row0\" class=\"row_heading level0 row0\" >92</th>\n",
       "                        <th id=\"T_e525fbee_b107_11ea_a953_5c80b676e679level1_row0\" class=\"row_heading level1 row0\" >Final Critic</th>\n",
       "                        <td id=\"T_e525fbee_b107_11ea_a953_5c80b676e679row0_col0\" class=\"data row0 col0\" >13</td>\n",
       "                        <td id=\"T_e525fbee_b107_11ea_a953_5c80b676e679row0_col1\" class=\"data row0 col1\" >$4.61</td>\n",
       "                        <td id=\"T_e525fbee_b107_11ea_a953_5c80b676e679row0_col2\" class=\"data row0 col2\" >$59.99</td>\n",
       "            </tr>\n",
       "            <tr>\n",
       "                        <th id=\"T_e525fbee_b107_11ea_a953_5c80b676e679level0_row1\" class=\"row_heading level0 row1\" >178</th>\n",
       "                        <th id=\"T_e525fbee_b107_11ea_a953_5c80b676e679level1_row1\" class=\"row_heading level1 row1\" >Oathbreaker, Last Hope of the Breaking Storm</th>\n",
       "                        <td id=\"T_e525fbee_b107_11ea_a953_5c80b676e679row1_col0\" class=\"data row1 col0\" >12</td>\n",
       "                        <td id=\"T_e525fbee_b107_11ea_a953_5c80b676e679row1_col1\" class=\"data row1 col1\" >$4.23</td>\n",
       "                        <td id=\"T_e525fbee_b107_11ea_a953_5c80b676e679row1_col2\" class=\"data row1 col2\" >$50.76</td>\n",
       "            </tr>\n",
       "            <tr>\n",
       "                        <th id=\"T_e525fbee_b107_11ea_a953_5c80b676e679level0_row2\" class=\"row_heading level0 row2\" >82</th>\n",
       "                        <th id=\"T_e525fbee_b107_11ea_a953_5c80b676e679level1_row2\" class=\"row_heading level1 row2\" >Nirvana</th>\n",
       "                        <td id=\"T_e525fbee_b107_11ea_a953_5c80b676e679row2_col0\" class=\"data row2 col0\" >9</td>\n",
       "                        <td id=\"T_e525fbee_b107_11ea_a953_5c80b676e679row2_col1\" class=\"data row2 col1\" >$4.90</td>\n",
       "                        <td id=\"T_e525fbee_b107_11ea_a953_5c80b676e679row2_col2\" class=\"data row2 col2\" >$44.10</td>\n",
       "            </tr>\n",
       "            <tr>\n",
       "                        <th id=\"T_e525fbee_b107_11ea_a953_5c80b676e679level0_row3\" class=\"row_heading level0 row3\" >145</th>\n",
       "                        <th id=\"T_e525fbee_b107_11ea_a953_5c80b676e679level1_row3\" class=\"row_heading level1 row3\" >Fiery Glass Crusader</th>\n",
       "                        <td id=\"T_e525fbee_b107_11ea_a953_5c80b676e679row3_col0\" class=\"data row3 col0\" >9</td>\n",
       "                        <td id=\"T_e525fbee_b107_11ea_a953_5c80b676e679row3_col1\" class=\"data row3 col1\" >$4.58</td>\n",
       "                        <td id=\"T_e525fbee_b107_11ea_a953_5c80b676e679row3_col2\" class=\"data row3 col2\" >$41.22</td>\n",
       "            </tr>\n",
       "            <tr>\n",
       "                        <th id=\"T_e525fbee_b107_11ea_a953_5c80b676e679level0_row4\" class=\"row_heading level0 row4\" >103</th>\n",
       "                        <th id=\"T_e525fbee_b107_11ea_a953_5c80b676e679level1_row4\" class=\"row_heading level1 row4\" >Singed Scalpel</th>\n",
       "                        <td id=\"T_e525fbee_b107_11ea_a953_5c80b676e679row4_col0\" class=\"data row4 col0\" >8</td>\n",
       "                        <td id=\"T_e525fbee_b107_11ea_a953_5c80b676e679row4_col1\" class=\"data row4 col1\" >$4.35</td>\n",
       "                        <td id=\"T_e525fbee_b107_11ea_a953_5c80b676e679row4_col2\" class=\"data row4 col2\" >$34.80</td>\n",
       "            </tr>\n",
       "    </tbody></table>"
      ],
      "text/plain": [
       "<pandas.io.formats.style.Styler at 0x21d16aeff08>"
      ]
     },
     "execution_count": 61,
     "metadata": {},
     "output_type": "execute_result"
    }
   ],
   "source": [
    "popular = popular.sort_values([\"Total Purchase Value\"],\n",
    "                                                   ascending=False).head()\n",
    "# Make it look nice\n",
    "popular.style.format({\"Item Price\":\"${:,.2f}\",\n",
    "                                \"Total Purchase Value\":\"${:,.2f}\"})"
   ]
  },
  {
   "cell_type": "code",
   "execution_count": null,
   "metadata": {},
   "outputs": [],
   "source": []
  }
 ],
 "metadata": {
  "anaconda-cloud": {},
  "kernel_info": {
   "name": "python3"
  },
  "kernelspec": {
   "display_name": "Python 3",
   "language": "python",
   "name": "python3"
  },
  "language_info": {
   "codemirror_mode": {
    "name": "ipython",
    "version": 3
   },
   "file_extension": ".py",
   "mimetype": "text/x-python",
   "name": "python",
   "nbconvert_exporter": "python",
   "pygments_lexer": "ipython3",
   "version": "3.7.6"
  },
  "latex_envs": {
   "LaTeX_envs_menu_present": true,
   "autoclose": false,
   "autocomplete": true,
   "bibliofile": "biblio.bib",
   "cite_by": "apalike",
   "current_citInitial": 1,
   "eqLabelWithNumbers": true,
   "eqNumInitial": 1,
   "hotkeys": {
    "equation": "Ctrl-E",
    "itemize": "Ctrl-I"
   },
   "labels_anchors": false,
   "latex_user_defs": false,
   "report_style_numbering": false,
   "user_envs_cfg": false
  },
  "nteract": {
   "version": "0.2.0"
  }
 },
 "nbformat": 4,
 "nbformat_minor": 2
}
